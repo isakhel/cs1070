{
 "cells": [
  {
   "cell_type": "code",
   "execution_count": 63,
   "metadata": {},
   "outputs": [],
   "source": [
    "# Question 1: How can you get more information about a function \n",
    "# or an object from inside a jupyter cell?\n",
    "# Answer: use help()\n",
    "\n",
    "# Question 2: How can you determine \n",
    "# the data type of an object? Describe one data type and what it is.\n",
    "# Answer: use type()"
   ]
  },
  {
   "cell_type": "code",
   "execution_count": 64,
   "metadata": {},
   "outputs": [
    {
     "name": "stdout",
     "output_type": "stream",
     "text": [
      "yellow\n"
     ]
    }
   ],
   "source": [
    "# Question 3: What does assignment mean?\n",
    "# Assign a variable named x and give it a value of 'yellow'\n",
    "# Answer: to give a value to a variable\n",
    "x = \"yellow\"\n",
    "print(x)"
   ]
  },
  {
   "cell_type": "code",
   "execution_count": 65,
   "metadata": {},
   "outputs": [
    {
     "name": "stdout",
     "output_type": "stream",
     "text": [
      "[1, 2, 3, 4]\n"
     ]
    }
   ],
   "source": [
    "# Question 4: You have an assortment of items you will need to keep track of. What would be a good data structure to keep them in?\n",
    "# Provide an example in code. Make sure your code runs!\n",
    "# Answer: a list\n",
    "mylist = [1,2,3,4]\n",
    "print(mylist)"
   ]
  },
  {
   "cell_type": "code",
   "execution_count": 66,
   "metadata": {},
   "outputs": [
    {
     "name": "stdout",
     "output_type": "stream",
     "text": [
      "{'one': 1, 'two': 2}\n"
     ]
    }
   ],
   "source": [
    "# Question 5: You have an assortment of names and telephone numbers. What might be a good data structure to keep them in?\n",
    "# Show an example with code. Make sure your code runs!\n",
    "# Answer: a dictionary\n",
    "number = {\n",
    "   \"one\" : 1,\n",
    "   \"two\" : 2\n",
    "}\n",
    "print(number)"
   ]
  },
  {
   "cell_type": "code",
   "execution_count": 67,
   "metadata": {},
   "outputs": [],
   "source": [
    "# Question 6: You need to create a copy of an important list and alter the copy.\n",
    "# Why is the following code a bad idea?\n",
    "# Answer: It alters the original list as well"
   ]
  },
  {
   "cell_type": "code",
   "execution_count": 68,
   "metadata": {},
   "outputs": [
    {
     "name": "stdout",
     "output_type": "stream",
     "text": [
      "True\n",
      "False\n"
     ]
    }
   ],
   "source": [
    "# Question 7: What is truthy and falsey? Provide a list example and\n",
    "# a string example of something that is truthy and something that is falsey.\n",
    "# Answer: A value that evaluates to either true or false\n",
    "mylist = [1,4,5]\n",
    "mybool = True\n",
    "if mylist[0]==1:\n",
    "    mybool = True\n",
    "else:\n",
    "    mybool = False\n",
    "print(mybool)\n",
    "\n",
    "mystring = \"Cat\"\n",
    "if mystring[0]==\"D\":\n",
    "    mybool = True\n",
    "else:\n",
    "    mybool = False\n",
    "print(mybool)"
   ]
  },
  {
   "cell_type": "code",
   "execution_count": 69,
   "metadata": {},
   "outputs": [],
   "source": [
    "# Question 8: What is the difference\n",
    "# between a dynamically typed and statically typed language?\n",
    "# Answer: Static checks for issues before running while dynamic checks for issues\n",
    "# at runtime\n",
    "# 1) Python is dynamic\n",
    "# 2) Dynamic typing is faster, simpler, and easier to understand for beginners like us\n",
    "# 3) Errors are hard to find in a dynamic language"
   ]
  },
  {
   "cell_type": "code",
   "execution_count": 71,
   "metadata": {},
   "outputs": [
    {
     "name": "stdout",
     "output_type": "stream",
     "text": [
      "9\n",
      "<class 'str'>\n"
     ]
    }
   ],
   "source": [
    "# Question 9: Find 2 functions and use them\n",
    "#Answer\n",
    "x=-9\n",
    "x = abs(x)\n",
    "print(x)\n",
    "\n",
    "y=8\n",
    "y=str(y)\n",
    "print(type(y))\n"
   ]
  },
  {
   "cell_type": "code",
   "execution_count": 73,
   "metadata": {},
   "outputs": [
    {
     "name": "stdout",
     "output_type": "stream",
     "text": [
      "odd\n"
     ]
    }
   ],
   "source": [
    "# Question 10: What operator might help me determine if an integer is even or odd?\n",
    "# Answer: %\n",
    "\n",
    "x=5\n",
    "if x%2 == 1:\n",
    "    print(\"odd\")\n",
    "else:\n",
    "    print(\"even\")"
   ]
  },
  {
   "cell_type": "code",
   "execution_count": null,
   "metadata": {},
   "outputs": [],
   "source": [
    "# Question 11: What is a python expression? What does an expression evalute to?\n",
    "# Answer: a line of code with operators that represents a value, mostly integers or floats\n"
   ]
  },
  {
   "cell_type": "code",
   "execution_count": 83,
   "metadata": {},
   "outputs": [
    {
     "data": {
      "text/plain": [
       "True"
      ]
     },
     "execution_count": 83,
     "metadata": {},
     "output_type": "execute_result"
    }
   ],
   "source": [
    "# Question 12: Provide an expression that evaluates which variable is greater.\n",
    "# Answer:\n",
    "foo = 77\n",
    "bar = 38\n",
    "foo>bar"
   ]
  },
  {
   "cell_type": "code",
   "execution_count": 92,
   "metadata": {},
   "outputs": [
    {
     "name": "stdout",
     "output_type": "stream",
     "text": [
      "odd\n",
      "even\n",
      "odd found it!\n",
      "even\n",
      "odd\n",
      "even\n",
      "odd\n",
      "even\n",
      "odd\n"
     ]
    }
   ],
   "source": [
    "# Question 13:Provide an if statement (inside the provided for loop) that prints 'even' if the number is even,\n",
    "#  'odd' if the number is odd, and 'found it!' if the number is 3.\n",
    "# Answer:\n",
    "my_list = [1,2,3,4,5,6,7,8,9]\n",
    "for i in my_list:\n",
    "    if i%2==0:\n",
    "        print('even')\n",
    "    else:\n",
    "        if i == 3:\n",
    "            print(\"odd found it!\")\n",
    "        else:\n",
    "            print(\"odd\")\n"
   ]
  },
  {
   "cell_type": "code",
   "execution_count": 114,
   "metadata": {},
   "outputs": [
    {
     "name": "stdout",
     "output_type": "stream",
     "text": [
      "false\n",
      "false\n",
      "true\n"
     ]
    }
   ],
   "source": [
    "# Question 14: What is the greater than equal to operator?\n",
    "#  Show a code example of how it is used.\n",
    "# Answer:\n",
    "x=[7,6,5]\n",
    "for i in x:\n",
    "    if i>=6:\n",
    "        print(\"false\")\n",
    "    else:\n",
    "        print(\"true\")"
   ]
  },
  {
   "cell_type": "code",
   "execution_count": 121,
   "metadata": {},
   "outputs": [
    {
     "data": {
      "text/plain": [
       "3"
      ]
     },
     "execution_count": 121,
     "metadata": {},
     "output_type": "execute_result"
    }
   ],
   "source": [
    "# Question 15: What is the floored division operator? Show a code example of how it is used.\n",
    "# Answer: //, divides the number and rounds the answer down to the nearest integer\n",
    "10//3\n"
   ]
  },
  {
   "cell_type": "code",
   "execution_count": 133,
   "metadata": {},
   "outputs": [],
   "source": [
    "# Question 16: Why does the following give an error? Show how to fix it.\n",
    "# Answer: variable names cannot begin with a numeral\n",
    "cars = ('Ferarri', 'Mustang')"
   ]
  },
  {
   "cell_type": "code",
   "execution_count": 134,
   "metadata": {},
   "outputs": [],
   "source": [
    "# Question 17:Why does this if statement evaluate to true and do what's in the if body?\n",
    "#  You will see this shortcut a lot and it can be confusing\n",
    "# Answer: All Python objects are either true or false. Lists are true if they are not empty"
   ]
  },
  {
   "cell_type": "code",
   "execution_count": 147,
   "metadata": {},
   "outputs": [
    {
     "data": {
      "text/plain": [
       "256"
      ]
     },
     "execution_count": 147,
     "metadata": {},
     "output_type": "execute_result"
    }
   ],
   "source": [
    "# Question 18:Write an expression that raises one number to the power of 8.\n",
    "# Answer:\n",
    "2**8"
   ]
  },
  {
   "cell_type": "code",
   "execution_count": 150,
   "metadata": {},
   "outputs": [
    {
     "name": "stdout",
     "output_type": "stream",
     "text": [
      "<class 'str'>\n"
     ]
    }
   ],
   "source": [
    "# Question 19:How can you change my_var form an int to a str?\n",
    "# Answer:\n",
    "my_var = 65\n",
    "myvar = str(my_var)\n",
    "print(type(myvar))"
   ]
  },
  {
   "cell_type": "code",
   "execution_count": 159,
   "metadata": {},
   "outputs": [
    {
     "name": "stdout",
     "output_type": "stream",
     "text": [
      " quarter to eight\n"
     ]
    }
   ],
   "source": [
    "# Question 20:Slice some_string to only include the words quarter to eight.\n",
    "# Answer:\n",
    "some_string = \"I have got a date at a quarter to eight; I'll see you at the gate, so don't be late\"\n",
    "some_string = some_string[22:39]\n",
    "print(some_string)"
   ]
  },
  {
   "cell_type": "code",
   "execution_count": 165,
   "metadata": {},
   "outputs": [
    {
     "name": "stdout",
     "output_type": "stream",
     "text": [
      "Blues\n"
     ]
    }
   ],
   "source": [
    "# Question 21:Assign a new variable sport (that you define) to the 3rd element in the list.\n",
    "\n",
    "# Answer:\n",
    "my_favorite_teams= ['Chiefs', 'Cardinals', 'Blues', 'Billikens','Battlehawks', 'No sports ball for me']\n",
    "sport = my_favorite_teams[2]\n",
    "print(sport)"
   ]
  },
  {
   "cell_type": "code",
   "execution_count": 166,
   "metadata": {},
   "outputs": [],
   "source": [
    "# Question 22:What is the use case for the dir() method?\n",
    "# Answer: to find out what properties an object has"
   ]
  },
  {
   "cell_type": "code",
   "execution_count": 176,
   "metadata": {},
   "outputs": [
    {
     "name": "stdout",
     "output_type": "stream",
     "text": [
      "Can't Triple\n",
      "9\n"
     ]
    }
   ],
   "source": [
    "# Question 23:Write a function that takes in any number and triples it. Give the function a default value if no number is passed in.\n",
    "# Answer:\n",
    "def triple(x):\n",
    "    if type(x) == int or type(x) == float:\n",
    "        print(3*x)\n",
    "    else:\n",
    "        print(\"Can't Triple\")\n",
    "\n",
    "triple(\"f\")\n",
    "triple(3)"
   ]
  },
  {
   "cell_type": "code",
   "execution_count": 179,
   "metadata": {},
   "outputs": [
    {
     "name": "stdout",
     "output_type": "stream",
     "text": [
      "927\n",
      "594\n",
      "990\n",
      "756\n"
     ]
    }
   ],
   "source": [
    "# Question 24:Iterate through integers_list and print values that are multiples of 9.\n",
    "# Answer:\n",
    "import random\n",
    "integers_list = [random.randint(0,1000) for i in range(50)]\n",
    "for integer in integers_list:\n",
    "    if integer%9 == 0:\n",
    "        print(integer)\n",
    "    else:\n",
    "        pass"
   ]
  }
 ],
 "metadata": {
  "kernelspec": {
   "display_name": "Python 3",
   "language": "python",
   "name": "python3"
  },
  "language_info": {
   "codemirror_mode": {
    "name": "ipython",
    "version": 3
   },
   "file_extension": ".py",
   "mimetype": "text/x-python",
   "name": "python",
   "nbconvert_exporter": "python",
   "pygments_lexer": "ipython3",
   "version": "3.12.4"
  }
 },
 "nbformat": 4,
 "nbformat_minor": 2
}
