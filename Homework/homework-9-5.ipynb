{
 "cells": [
  {
   "cell_type": "code",
   "execution_count": 9,
   "metadata": {},
   "outputs": [
    {
     "name": "stdout",
     "output_type": "stream",
     "text": [
      "My computer has gone crazy and added extra symbols.\n"
     ]
    }
   ],
   "source": [
    "#Question 1: Loop through the string and eliminate all the asterisks.\n",
    "asterisk = 'My* compu*ter has go*ne craz***y an*d add*ed extra *symbols.*'\n",
    "asterisk2 =\"\"\n",
    "for letter in asterisk:\n",
    "    if letter == \"*\":\n",
    "        pass\n",
    "    else:\n",
    "        asterisk2 = asterisk2 + letter\n",
    "    \n",
    "print(asterisk2)"
   ]
  },
  {
   "cell_type": "code",
   "execution_count": 10,
   "metadata": {},
   "outputs": [
    {
     "name": "stdout",
     "output_type": "stream",
     "text": [
      "7\n"
     ]
    }
   ],
   "source": [
    "#Question 2: Write a while loop that increments counter until it reaches 7.\n",
    "counter = 0\n",
    "while counter<7:\n",
    "    counter+=1\n",
    "print(counter)"
   ]
  },
  {
   "cell_type": "code",
   "execution_count": 12,
   "metadata": {},
   "outputs": [
    {
     "name": "stdout",
     "output_type": "stream",
     "text": [
      "0\n",
      "4\n",
      "Input integers please!\n",
      "Both integers have to be odd or even\n"
     ]
    }
   ],
   "source": [
    "#Question 3\n",
    "def myfunc(a,b):\n",
    "    if type(a) == int and type(b) == int:\n",
    "        if a%2 == 0 and b%2 == 0:\n",
    "            return(a+b)\n",
    "        elif a%2 == 1 and b%2 == 1:\n",
    "            return(a-b)\n",
    "        else: \n",
    "            return(\"Both integers have to be odd or even\")\n",
    "    else:\n",
    "        return(\"Input integers please!\")\n",
    "\n",
    "print(myfunc(1,1))\n",
    "print(myfunc(2,2))\n",
    "print(myfunc(\"a\",\"s\"))\n",
    "print(myfunc(1,2))"
   ]
  },
  {
   "cell_type": "code",
   "execution_count": 27,
   "metadata": {},
   "outputs": [
    {
     "name": "stdout",
     "output_type": "stream",
     "text": [
      "*\n",
      "**\n",
      "***\n",
      "****\n",
      "******\n",
      "*****\n",
      "****\n",
      "***\n",
      "**\n",
      "*\n"
     ]
    }
   ],
   "source": [
    "#Question 4\n",
    "def triangles(n,direction):\n",
    "    if direction == \"up\":\n",
    "        counter = n\n",
    "        while counter >0:\n",
    "            print(\"*\"*counter)\n",
    "            counter -= 1\n",
    "    elif direction == \"down\":\n",
    "        counter = 1\n",
    "        while counter<= n:\n",
    "            print(\"*\"*counter)\n",
    "            counter +=1\n",
    "triangles(4,\"down\")\n",
    "triangles(6, \"up\")"
   ]
  }
 ],
 "metadata": {
  "kernelspec": {
   "display_name": "Python 3",
   "language": "python",
   "name": "python3"
  },
  "language_info": {
   "codemirror_mode": {
    "name": "ipython",
    "version": 3
   },
   "file_extension": ".py",
   "mimetype": "text/x-python",
   "name": "python",
   "nbconvert_exporter": "python",
   "pygments_lexer": "ipython3",
   "version": "3.12.4"
  }
 },
 "nbformat": 4,
 "nbformat_minor": 2
}
