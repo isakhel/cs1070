{
 "cells": [
  {
   "cell_type": "code",
   "execution_count": 36,
   "metadata": {},
   "outputs": [
    {
     "name": "stdout",
     "output_type": "stream",
     "text": [
      "My computer has gone crazy and added extra symbols.\n"
     ]
    }
   ],
   "source": [
    "#Question 1: Loop through the string and eliminate all the asterisks.\n",
    "asterisk = 'My* compu*ter has go*ne craz***y an*d add*ed extra *symbols.*'\n",
    "asterisk2 =\"\"\n",
    "for letter in asterisk:\n",
    "    if letter == \"*\":\n",
    "        pass\n",
    "    else:\n",
    "        asterisk2 = asterisk2 + letter\n",
    "    \n",
    "print(asterisk2)"
   ]
  },
  {
   "cell_type": "code",
   "execution_count": 37,
   "metadata": {},
   "outputs": [
    {
     "name": "stdout",
     "output_type": "stream",
     "text": [
      "7\n"
     ]
    }
   ],
   "source": [
    "#Question 2: Write a while loop that increments counter until it reaches 7.\n",
    "counter = 0\n",
    "while counter<7:\n",
    "    counter+=1\n",
    "print(counter)"
   ]
  },
  {
   "cell_type": "code",
   "execution_count": 38,
   "metadata": {},
   "outputs": [
    {
     "name": "stdout",
     "output_type": "stream",
     "text": [
      "0\n",
      "4\n",
      "Input integers please!\n",
      "Both integers have to be odd or even\n"
     ]
    }
   ],
   "source": [
    "#Question 3\n",
    "def myfunc(a,b):\n",
    "    if type(a) == int and type(b) == int:\n",
    "        if a%2 == 0 and b%2 == 0:\n",
    "            return(a+b)\n",
    "        elif a%2 == 1 and b%2 == 1:\n",
    "            return(a-b)\n",
    "        else: \n",
    "            return(\"Both integers have to be odd or even\")\n",
    "    else:\n",
    "        return(\"Input integers please!\")\n",
    "\n",
    "print(myfunc(1,1))\n",
    "print(myfunc(2,2))\n",
    "print(myfunc(\"a\",\"s\"))\n",
    "print(myfunc(1,2))"
   ]
  },
  {
   "cell_type": "code",
   "execution_count": 39,
   "metadata": {},
   "outputs": [
    {
     "name": "stdout",
     "output_type": "stream",
     "text": [
      "*\n",
      "**\n",
      "***\n",
      "****\n",
      "******\n",
      "*****\n",
      "****\n",
      "***\n",
      "**\n",
      "*\n"
     ]
    }
   ],
   "source": [
    "#Question 4\n",
    "def triangles(n,direction):\n",
    "    if direction == \"up\":\n",
    "        counter = n\n",
    "        while counter >0:\n",
    "            print(\"*\"*counter)\n",
    "            counter -= 1\n",
    "    elif direction == \"down\":\n",
    "        counter = 1\n",
    "        while counter<= n:\n",
    "            print(\"*\"*counter)\n",
    "            counter +=1\n",
    "triangles(4,\"down\")\n",
    "triangles(6, \"up\")"
   ]
  },
  {
   "cell_type": "code",
   "execution_count": 19,
   "metadata": {},
   "outputs": [
    {
     "name": "stdout",
     "output_type": "stream",
     "text": [
      "a = 8  b = 6  c = 0 d =  0\n"
     ]
    }
   ],
   "source": [
    "#Question 5\n",
    "alphabet = {\"a\": 1,\n",
    "            \"b\": 2,\n",
    "            \"c\": 3,\n",
    "            \"d\": 4,\n",
    "            \"e\": 5,\n",
    "            \"f\": 6,\n",
    "            \"g\": 7,\n",
    "            \"h\": 8,\n",
    "            \"i\": 9,\n",
    "            \"j\": 10,\n",
    "            \"k\": 11,\n",
    "            \"l\": 12,\n",
    "            \"m\": 13,\n",
    "            \"n\": 14,\n",
    "            \"o\": 15,\n",
    "            \"p\": 16,\n",
    "            \"q\": 17,\n",
    "            \"r\": 18,\n",
    "            \"s\": 19,\n",
    "            \"t\": 20,\n",
    "            \"u\": 21,\n",
    "            \"v\": 22,\n",
    "            \"w\": 23,\n",
    "            \"x\": 24,\n",
    "            \"y\": 25,\n",
    "            \"z\": 26,}\n",
    "def alphafunc(letter):\n",
    "    miniletter = str(letter).lower()\n",
    "    a=0\n",
    "    b=0\n",
    "    c=0\n",
    "    d=0\n",
    "    if miniletter in alphabet.keys():\n",
    "        mynum = alphabet[miniletter]\n",
    "        # print(mynum)\n",
    "        counter = -1\n",
    "        while counter<mynum:\n",
    "            #print(counter)\n",
    "            while a<8:\n",
    "                if counter != mynum:\n",
    "                    counter+=1\n",
    "                else:\n",
    "                    break\n",
    "                a+=1\n",
    "            while b<8:\n",
    "                if counter != mynum:\n",
    "                    counter+=1\n",
    "                else:\n",
    "                    break\n",
    "                b+=1\n",
    "            while d<8:\n",
    "                if counter != mynum:\n",
    "                    counter+=1\n",
    "                else:\n",
    "                    break \n",
    "                d+=1   \n",
    "        print(f\"a = {a}  b = {b}  c = {c} d =  {d}\")\n",
    "    else:\n",
    "        print(\"input a letter please!\")\n",
    "alphafunc(\"m\")\n"
   ]
  },
  {
   "cell_type": "code",
   "execution_count": 42,
   "metadata": {},
   "outputs": [
    {
     "name": "stdout",
     "output_type": "stream",
     "text": [
      "25\n"
     ]
    }
   ],
   "source": [
    "#Question 6\n",
    "class Person():\n",
    "    \n",
    "    def __init__(self, name, occupation, country, age):\n",
    "        self.name = name\n",
    "        self.occupation = occupation\n",
    "        self.country = country\n",
    "        self.age = age\n",
    " \n",
    "myperson = Person(\"James\", \"Coder\",\"US\",30)\n",
    "print(myperson.age)"
   ]
  },
  {
   "cell_type": "code",
   "execution_count": 1,
   "metadata": {},
   "outputs": [
    {
     "name": "stdout",
     "output_type": "stream",
     "text": [
      "I will start acting now!\n"
     ]
    }
   ],
   "source": [
    "#Question 7\n",
    "class actress():\n",
    "    def __init__(self, name = 'Meryl Streep'):\n",
    "        self.name = name\n",
    "        \n",
    "    def act(self, line):\n",
    "        print(f'{self.name}: {line}')\n",
    "    @staticmethod\n",
    "    def myline():\n",
    "        print(\"I will start acting now!\")\n",
    "actress.myline()"
   ]
  },
  {
   "cell_type": "code",
   "execution_count": 3,
   "metadata": {},
   "outputs": [
    {
     "name": "stdout",
     "output_type": "stream",
     "text": [
      "[1, 4, 3, 4, 4]\n"
     ]
    }
   ],
   "source": [
    "#Question 8\n",
    "from random import randrange\n",
    "class Dice():\n",
    "    def __init__(self, num_of_dice):\n",
    "        dicelist = []\n",
    "        self.num_of_dice= num_of_dice\n",
    "        counter = 0\n",
    "        while counter < num_of_dice:\n",
    "            new_dice = randrange(1,7)\n",
    "            dicelist.append(new_dice)\n",
    "            counter +=1\n",
    "        print(dicelist)\n",
    "Dice1 = Dice(5)\n"
   ]
  }
 ],
 "metadata": {
  "kernelspec": {
   "display_name": "Python 3",
   "language": "python",
   "name": "python3"
  },
  "language_info": {
   "codemirror_mode": {
    "name": "ipython",
    "version": 3
   },
   "file_extension": ".py",
   "mimetype": "text/x-python",
   "name": "python",
   "nbconvert_exporter": "python",
   "pygments_lexer": "ipython3",
   "version": "3.12.4"
  }
 },
 "nbformat": 4,
 "nbformat_minor": 2
}
