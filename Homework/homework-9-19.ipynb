{
 "cells": [
  {
   "cell_type": "code",
   "execution_count": 57,
   "metadata": {},
   "outputs": [],
   "source": [
    "#Starter code. Do NOT modify this cell\n",
    "import pandas as pd\n",
    "import numpy as np\n",
    "\n",
    "# Read in dataset\n",
    "df = pd.read_csv('CSCI_Fall_2024_survey.csv',delimiter=',')"
   ]
  },
  {
   "cell_type": "code",
   "execution_count": 58,
   "metadata": {},
   "outputs": [
    {
     "data": {
      "text/plain": [
       "Index(['Timestamp', 'What is your name?', 'What are your pronouns?',\n",
       "       'Birthplace', 'How many siblings do you have?',\n",
       "       'How much experience do you have programming?',\n",
       "       'What class are you in? ', 'Are you working while in school?', 'Pets',\n",
       "       'Food', 'Where do you live?', 'Do you take the metro?', 'Major', 'Age',\n",
       "       'What is your favorite TV show?', 'What is your favorite video game?',\n",
       "       'What is your favorite book?', 'Why are you taking this class? ',\n",
       "       'Whats your favorite bash command?'],\n",
       "      dtype='object')"
      ]
     },
     "execution_count": 58,
     "metadata": {},
     "output_type": "execute_result"
    }
   ],
   "source": [
    "#df_birthplace = df(\"What state/country were you born in?\")\n",
    "df.rename(columns={\"What state/country were you born in?\":\"Birthplace\",\n",
    "                    'How many pets and of which kind do you have?' :'Pets',\n",
    "                      'What is your favorite type of food?':\"Food\",\n",
    "                      'What is your major?': \"Major\",\n",
    "                        'How old are you?' : \"Age\"  }, inplace=True)\n",
    "\n",
    "df.columns"
   ]
  },
  {
   "cell_type": "code",
   "execution_count": 59,
   "metadata": {},
   "outputs": [],
   "source": [
    "m = \"Midwest\"\n",
    "e = \"East\"\n",
    "w = \"West\"\n",
    "f = \"Foreign\"\n",
    "\n",
    "df[\"Birthplace\"] = df[\"Birthplace\"].replace({\"Missouri\" : m,\n",
    "                                              \"Mexico\": f,\n",
    "                                                \"Wisconsin\": w,\n",
    "                                                  \"New Jersey\" : e,\n",
    "                                                   \"Frankfurt, Germany\": f,\n",
    "                                                    \"st. louis, mo\": m,\n",
    "                                                      \" India \" :f,\n",
    "                                                      \"St. Louis MO\": m,\n",
    "                                                      \"Missouri, USA\": m,\n",
    "                                                      \"Georgia (the country not the state)\": f,\n",
    "                                                      \"st.louis mo\": m,\n",
    "                                                      \"Saint Louis, Missouri\": m,\n",
    "                                                      \"Kansas, Overland Park\": m,\n",
    "                                                      \"    United States Missouri \":m,\n",
    "                                                      \"Oklahoma\": m,\n",
    "                                                      \"I was born in Chandigarh, India!\": f,\n",
    "                                                      \"People's Republic of China\": f,\n",
    "                                                      \"india\": f,\n",
    "                                                      \"Cameroon\": f,\n",
    "                                                      \"TEXAS\" : m,\n",
    "                                                      \"Kazakhstah\": f})"
   ]
  },
  {
   "cell_type": "code",
   "execution_count": 83,
   "metadata": {},
   "outputs": [],
   "source": [
    "df[\"Pets\"] = df[\"Pets\"].replace({ \"1, Dog\": \"1\",\n",
    "                                 \"0\": \"0\",\n",
    "                                 \"no pets!\": 0,\n",
    "                                 \"I have two dogs and they are both at home\":\"2\",\n",
    "                                 \"none\": \"0\",\n",
    "                                 \" NaN \": \"0\",\n",
    "                                 \" 1 dog and 1 cat\": \"2\",\n",
    "                                 \"2 cats, one dog\": \"3\",\n",
    "                                 \"I have two dogs. They're bernedoodles.\": \"2\",\n",
    "                                 \"1\":\"1\",\n",
    "                                 \"2, Grumpy the exotic shorthair w heterchromia ...\": \"2\",\n",
    "                                 \"2 minature schnauzers\": \"2\",\n",
    "                                 \"2 dogs\":\"2\",\n",
    "                                 \"2, dogs.\":\"2\",\n",
    "                                 \"None :( But I really want a cat!\": \"0\",\n",
    "                                 \"1 Cat; 6 Dogs (Over two households)\": \"7\",\n",
    "                                 \"had 8 dogs, not anymore\": \"8\",\n",
    "                                 \"no pets\": \"0\",\n",
    "                                 \"three dogs\": \"3\",\n",
    "                                 \"No pets\" :\"0\"})\n"
   ]
  },
  {
   "cell_type": "code",
   "execution_count": 86,
   "metadata": {},
   "outputs": [
    {
     "data": {
      "text/plain": [
       "0     0\n",
       "1     0\n",
       "2     0\n",
       "3     0\n",
       "4     0\n",
       "5     0\n",
       "6     0\n",
       "7     0\n",
       "8     2\n",
       "9     0\n",
       "10    0\n",
       "11    0\n",
       "12    0\n",
       "13    0\n",
       "14    0\n",
       "15    0\n",
       "16    2\n",
       "17    0\n",
       "18    0\n",
       "19    0\n",
       "20    0\n",
       "21    0\n",
       "22    0\n",
       "23    0\n",
       "24    0\n",
       "25    0\n",
       "Name: PetsNew, dtype: object"
      ]
     },
     "execution_count": 86,
     "metadata": {},
     "output_type": "execute_result"
    }
   ],
   "source": [
    "df[\"PetsNew\"] = np.where(df[\"Pets\"].str.contains(\"NaN\"),\"0\",\n",
    "                              np.where(df[\"Pets\"].str.contains(\"1 dog and 1 cat\"),\"2\",\n",
    "                                        np.where(df[\"Pets\"].str.contains(\"Grumpy\"),\"2\",\n",
    "                                                 np.where(df[\"Pets\"].str.contains(\"0\"),\"0\",\n",
    "                                                          np.where(df[\"Pets\"].str.contains(\"1\"),\"1\",\n",
    "                                                                   np.where(df[\"Pets\"].str.contains(\"2\"),\"2\",\"3+\"))))))\n",
    "df[\"PetsNew\"]"
   ]
  },
  {
   "cell_type": "code",
   "execution_count": 71,
   "metadata": {},
   "outputs": [],
   "source": [
    "df[\"FavoriteFood\"] = np.where(df[\"Food\"].str.contains(\"Japanese\"),\"Japanese\",\n",
    "                              np.where(df[\"Food\"].str.contains(\"Mexican\"),\"Mexican\",\n",
    "                                        np.where(df[\"Food\"].str.contains(\"Italian\"),\"Italian\",\"Other\")))"
   ]
  },
  {
   "cell_type": "code",
   "execution_count": 72,
   "metadata": {},
   "outputs": [
    {
     "data": {
      "text/plain": [
       "0     Japanese\n",
       "1      Mexican\n",
       "2      Italian\n",
       "3      Italian\n",
       "4        Other\n",
       "5     Japanese\n",
       "6        Other\n",
       "7      Mexican\n",
       "8        Other\n",
       "9      Mexican\n",
       "10       Other\n",
       "11     Italian\n",
       "12       Other\n",
       "13     Italian\n",
       "14     Mexican\n",
       "15       Other\n",
       "16    Japanese\n",
       "17     Italian\n",
       "18       Other\n",
       "19       Other\n",
       "20     Italian\n",
       "21    Japanese\n",
       "22    Japanese\n",
       "23       Other\n",
       "24       Other\n",
       "25     Mexican\n",
       "Name: FavoriteFood, dtype: object"
      ]
     },
     "execution_count": 72,
     "metadata": {},
     "output_type": "execute_result"
    }
   ],
   "source": [
    "df[\"FavoriteFood\"]"
   ]
  },
  {
   "cell_type": "code",
   "execution_count": 82,
   "metadata": {},
   "outputs": [
    {
     "data": {
      "text/plain": [
       "0     COMPSCI\n",
       "1     COMPSCI\n",
       "2        DATA\n",
       "3       Other\n",
       "4     COMPSCI\n",
       "5     COMPSCI\n",
       "6     COMPSCI\n",
       "7     COMPSCI\n",
       "8     COMPSCI\n",
       "9        DATA\n",
       "10    COMPSCI\n",
       "11    COMPSCI\n",
       "12    COMPSCI\n",
       "13    COMPSCI\n",
       "14    COMPSCI\n",
       "15    COMPSCI\n",
       "16      Other\n",
       "17    COMPSCI\n",
       "18       DATA\n",
       "19    COMPSCI\n",
       "20    COMPSCI\n",
       "21      Other\n",
       "22    COMPSCI\n",
       "23    COMPSCI\n",
       "24      Other\n",
       "25       DATA\n",
       "Name: MajorNew, dtype: object"
      ]
     },
     "execution_count": 82,
     "metadata": {},
     "output_type": "execute_result"
    }
   ],
   "source": [
    "\n",
    "df[\"MajorNew\"] = np.where(df[\"Major\"].str.contains(\"omp\"),\"COMPSCI\",\n",
    "                              np.where(df[\"Major\"].str.contains(\"CS/\", case=False),\"COMPSCI\",\n",
    "                                        np.where(df[\"Major\"].str.contains(\"Data\"),\"DATA\",\n",
    "                                            np.where(df[\"Major\"].str.contains(\"1\"),\"1\",\n",
    "                                                np.where(df[\"Major\"].str.contains(\"2\"),\"2\",\"Other\")))))\n",
    "df[\"MajorNew\"]"
   ]
  },
  {
   "cell_type": "code",
   "execution_count": 89,
   "metadata": {},
   "outputs": [
    {
     "data": {
      "text/plain": [
       "0            18-19\n",
       "1            18-19\n",
       "2            18-19\n",
       "3     Not Freshman\n",
       "4            18-19\n",
       "5            18-19\n",
       "6            18-19\n",
       "7            18-19\n",
       "8            18-19\n",
       "9            18-19\n",
       "10           18-19\n",
       "11           18-19\n",
       "12           18-19\n",
       "13           18-19\n",
       "14           18-19\n",
       "15           18-19\n",
       "16    Not Freshman\n",
       "17           18-19\n",
       "18           18-19\n",
       "19           18-19\n",
       "20           18-19\n",
       "21    Not Freshman\n",
       "22           18-19\n",
       "23           18-19\n",
       "24           18-19\n",
       "25    Not Freshman\n",
       "Name: AgeNew, dtype: object"
      ]
     },
     "execution_count": 89,
     "metadata": {},
     "output_type": "execute_result"
    }
   ],
   "source": [
    "df[\"Age\"] = df[\"Age\"].replace({ 18: \"18\",\n",
    "                               19:\"19\",\n",
    "                               17: \"17\",\n",
    "                               20:\"20\",\n",
    "                               21: \"21\"})\n",
    "df[\"AgeNew\"] = np.where(df[\"Age\"].str.contains(\"18\"),\"18-19\",np.where(df[\"Age\"].str.contains(\"19\"),\"18-19\",\"Not Freshman\"))\n",
    "df[\"AgeNew\"]"
   ]
  }
 ],
 "metadata": {
  "kernelspec": {
   "display_name": "Python 3",
   "language": "python",
   "name": "python3"
  },
  "language_info": {
   "codemirror_mode": {
    "name": "ipython",
    "version": 3
   },
   "file_extension": ".py",
   "mimetype": "text/x-python",
   "name": "python",
   "nbconvert_exporter": "python",
   "pygments_lexer": "ipython3",
   "version": "3.12.4"
  }
 },
 "nbformat": 4,
 "nbformat_minor": 2
}
