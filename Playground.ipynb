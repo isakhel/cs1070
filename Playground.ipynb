{
 "cells": [
  {
   "cell_type": "code",
   "execution_count": 1,
   "id": "d296a061-585b-427a-8d73-96f66d2f182e",
   "metadata": {},
   "outputs": [
    {
     "data": {
      "text/plain": [
       "{'__name__': '__main__',\n",
       " '__doc__': 'Automatically created module for IPython interactive environment',\n",
       " '__package__': None,\n",
       " '__loader__': None,\n",
       " '__spec__': None,\n",
       " '__builtin__': <module 'builtins' (built-in)>,\n",
       " '__builtins__': <module 'builtins' (built-in)>,\n",
       " '_ih': ['', 'globals()'],\n",
       " '_oh': {},\n",
       " '_dh': [WindowsPath('C:/Users/isakh/Desktop/cs-1070iovane/iovanecs1070')],\n",
       " 'In': ['', 'globals()'],\n",
       " 'Out': {},\n",
       " 'get_ipython': <bound method InteractiveShell.get_ipython of <ipykernel.zmqshell.ZMQInteractiveShell object at 0x000001F9ECF4C620>>,\n",
       " 'exit': <IPython.core.autocall.ZMQExitAutocall at 0x1f9ecf4cb00>,\n",
       " 'quit': <IPython.core.autocall.ZMQExitAutocall at 0x1f9ecf4cb00>,\n",
       " 'open': <function _io.open(file, mode='r', buffering=-1, encoding=None, errors=None, newline=None, closefd=True, opener=None)>,\n",
       " '_': '',\n",
       " '__': '',\n",
       " '___': '',\n",
       " '__session__': 'C:\\\\Users\\\\isakh\\\\Desktop\\\\cs-1070iovane\\\\iovanecs1070\\\\Untitled.ipynb',\n",
       " '_i': '',\n",
       " '_ii': '',\n",
       " '_iii': '',\n",
       " '_i1': 'globals()'}"
      ]
     },
     "execution_count": 1,
     "metadata": {},
     "output_type": "execute_result"
    }
   ],
   "source": [
    "globals()"
   ]
  },
  {
   "cell_type": "code",
   "execution_count": null,
   "id": "4ae6b65e-bfad-4fdd-8a2c-034a9ce5b0c9",
   "metadata": {},
   "outputs": [],
   "source": []
  }
 ],
 "metadata": {
  "kernelspec": {
   "display_name": "Python 3 (ipykernel)",
   "language": "python",
   "name": "python3"
  },
  "language_info": {
   "codemirror_mode": {
    "name": "ipython",
    "version": 3
   },
   "file_extension": ".py",
   "mimetype": "text/x-python",
   "name": "python",
   "nbconvert_exporter": "python",
   "pygments_lexer": "ipython3",
   "version": "3.12.4"
  }
 },
 "nbformat": 4,
 "nbformat_minor": 5
}
