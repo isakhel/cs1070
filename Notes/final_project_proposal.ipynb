{
 "cells": [
  {
   "cell_type": "markdown",
   "metadata": {},
   "source": [
    "# 1.  \n",
    "Alone"
   ]
  },
  {
   "cell_type": "markdown",
   "metadata": {},
   "source": [
    "# 2.\n",
    "https://www.kaggle.com/datasets/fedesoriano/heart-failure-prediction Heart Failure dataset"
   ]
  },
  {
   "cell_type": "markdown",
   "metadata": {},
   "source": [
    "# 3.\n",
    "# Null Hypothesis:\n",
    "The attributes recorded are not able accurately predict an instance of heart failure (less than 70% accuracy)\n",
    "\n",
    "# Alternative Hypothesis:\n",
    "The attributes recorded are able to accurately  predict an instance of heart failure (greater than 70% accuracy)\n"
   ]
  },
  {
   "cell_type": "markdown",
   "metadata": {},
   "source": [
    "# 4.\n",
    "Since the dataset has a binary outcome, I will probably use either KNN or logistical regression.\n",
    "Also would probably use decision trees, bagging, or boosting if the simpler models don't work."
   ]
  }
 ],
 "metadata": {
  "language_info": {
   "name": "python"
  }
 },
 "nbformat": 4,
 "nbformat_minor": 2
}
