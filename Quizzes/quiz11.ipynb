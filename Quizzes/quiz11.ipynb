{
 "cells": [
  {
   "cell_type": "code",
   "execution_count": 4,
   "metadata": {},
   "outputs": [
    {
     "name": "stdout",
     "output_type": "stream",
     "text": [
      "[1, 4, 56]\n"
     ]
    }
   ],
   "source": [
    "def mysorter(list):\n",
    "    newlist = []\n",
    "    for item in list:\n",
    "        if type(item) == int:\n",
    "            newlist.append(item)\n",
    "    return newlist\n",
    "\n",
    "mylist = [1,\"a\",4,56,\"fd\"]\n",
    "print(mysorter(mylist))"
   ]
  },
  {
   "cell_type": "code",
   "execution_count": 14,
   "metadata": {},
   "outputs": [],
   "source": [
    "\"\"\"\n",
    "This Fuction takes in a number and for all numbers between 1 and that \n",
    "number it returns a list of the numbers divisible by 3 with fizz, divisible by 5 buzz,\n",
    "and both divisible by 3 and 5 fizzbuzz\n",
    "\n",
    "\"\"\"\n",
    "\n",
    "def fizzbuzz(lim:int) -> list:\n",
    "    mylist=[]\n",
    "    for num in range(1,lim+1):\n",
    "        # FOR 5\n",
    "        if num%5 == 0 and num%3 !=0:\n",
    "            mylist.append(f\"{num}, fizz\")\n",
    "        # FOR 3\n",
    "        if num%3 == 0 and num%5 !=0:\n",
    "            mylist.append(f\"{num}, buzz\")  \n",
    "        # FOR 3 AND 5\n",
    "        if num%5 == 0 and num%3 ==0:\n",
    "            mylist.append(f\"{num}, fizzbuzz\")   \n",
    "    return mylist       "
   ]
  },
  {
   "cell_type": "code",
   "execution_count": 15,
   "metadata": {},
   "outputs": [
    {
     "name": "stdout",
     "output_type": "stream",
     "text": [
      "['3, buzz', '5, fizz', '6, buzz', '9, buzz', '10, fizz', '12, buzz', '15, fizzbuzz']\n"
     ]
    }
   ],
   "source": [
    "print(fizzbuzz(16))"
   ]
  }
 ],
 "metadata": {
  "kernelspec": {
   "display_name": "Python 3",
   "language": "python",
   "name": "python3"
  },
  "language_info": {
   "codemirror_mode": {
    "name": "ipython",
    "version": 3
   },
   "file_extension": ".py",
   "mimetype": "text/x-python",
   "name": "python",
   "nbconvert_exporter": "python",
   "pygments_lexer": "ipython3",
   "version": "3.12.4"
  }
 },
 "nbformat": 4,
 "nbformat_minor": 2
}
