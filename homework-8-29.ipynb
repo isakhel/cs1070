{
 "cells": [
  {
   "cell_type": "code",
   "execution_count": null,
   "metadata": {},
   "outputs": [],
   "source": [
    "# Question 1: How can you get more information about a function \n",
    "# or an object from inside a jupyter cell?\n",
    "# Answer: use help()\n",
    "\n",
    "# Question 2: How can you determine \n",
    "# the data type of an object? Describe one data type and what it is.\n",
    "# Answer: use type()\n",
    "\n",
    "# Question 3: What does assignment mean?\n",
    "# Assign a variable named x and give it a value of 'yellow'\n",
    "# Answer: to give a value to a variable\n",
    "x = \"yellow\"\n",
    "print(x)\n",
    "\n",
    "# Question 4: You have an assortment of items you will need to keep track of. What would be a good data structure to keep them in?\n",
    "# Provide an example in code. Make sure your code runs!\n",
    "# Answer: a list\n",
    "mylist = [1,2,3,4]\n",
    "print(mylist)\n",
    "\n",
    "# Question 5: You have an assortment of names and telephone numbers. What might be a good data structure to keep them in?\n",
    "# Show an example with code. Make sure your code runs!\n",
    "# Answer: a dictionary\n",
    "number = {\n",
    "   \"one\" : 1,\n",
    "   \"two\" : 2\n",
    "}\n",
    "print(number)\n",
    "\n",
    "# Question 6: You need to create a copy of an important list and alter the copy.\n",
    "# Why is the following code a bad idea?\n",
    "# Answer: It alters the original list as well\n",
    "\n",
    "# Question 7: What is truthy and falsey? Provide a list example and\n",
    "# a string example of something that is truthy and something that is falsey.\n",
    "# Answer: A value that evaluates to either true or false"
   ]
  }
 ],
 "metadata": {
  "language_info": {
   "name": "python"
  }
 },
 "nbformat": 4,
 "nbformat_minor": 2
}
